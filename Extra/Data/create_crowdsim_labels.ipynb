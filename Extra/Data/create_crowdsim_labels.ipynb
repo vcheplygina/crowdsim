{
 "cells": [
  {
   "cell_type": "code",
   "execution_count": 1,
   "id": "51ce8830-5f71-474d-9338-654d8db0ab3e",
   "metadata": {},
   "outputs": [],
   "source": [
    "## create ground truth label from batch results\n",
    "import pandas as pd\n",
    "import numpy as np\n",
    "from os import listdir\n",
    "from os.path import isfile, join\n"
   ]
  },
  {
   "cell_type": "code",
   "execution_count": 3,
   "id": "83204a7f-f977-4d7c-a184-6ad97466be60",
   "metadata": {},
   "outputs": [
    {
     "name": "stdout",
     "output_type": "stream",
     "text": [
      "Index(['Unnamed: 0', 'WorkerId', 'SubmitTime', 'WorkTimeInSeconds',\n",
      "       'LifetimeApprovalRate', 'anchor_id', 'anchor_label', 'image2',\n",
      "       'Input.image2_label', 'image3', 'Input.image3_label', 'answer',\n",
      "       'howMuch', 'Oracle_answer', 'Oracle_howMuch', 'Correct', 'WrongNo',\n",
      "       'ImpossibleNo'],\n",
      "      dtype='object')\n"
     ]
    },
    {
     "ename": "KeyError",
     "evalue": "'Answer.equal.label'",
     "output_type": "error",
     "traceback": [
      "\u001b[1;31m---------------------------------------------------------------------------\u001b[0m",
      "\u001b[1;31mKeyError\u001b[0m                                  Traceback (most recent call last)",
      "\u001b[1;32m~\\anaconda3\\lib\\site-packages\\pandas\\core\\indexes\\base.py\u001b[0m in \u001b[0;36mget_loc\u001b[1;34m(self, key, method, tolerance)\u001b[0m\n\u001b[0;32m   3079\u001b[0m             \u001b[1;32mtry\u001b[0m\u001b[1;33m:\u001b[0m\u001b[1;33m\u001b[0m\u001b[1;33m\u001b[0m\u001b[0m\n\u001b[1;32m-> 3080\u001b[1;33m                 \u001b[1;32mreturn\u001b[0m \u001b[0mself\u001b[0m\u001b[1;33m.\u001b[0m\u001b[0m_engine\u001b[0m\u001b[1;33m.\u001b[0m\u001b[0mget_loc\u001b[0m\u001b[1;33m(\u001b[0m\u001b[0mcasted_key\u001b[0m\u001b[1;33m)\u001b[0m\u001b[1;33m\u001b[0m\u001b[1;33m\u001b[0m\u001b[0m\n\u001b[0m\u001b[0;32m   3081\u001b[0m             \u001b[1;32mexcept\u001b[0m \u001b[0mKeyError\u001b[0m \u001b[1;32mas\u001b[0m \u001b[0merr\u001b[0m\u001b[1;33m:\u001b[0m\u001b[1;33m\u001b[0m\u001b[1;33m\u001b[0m\u001b[0m\n",
      "\u001b[1;32mpandas\\_libs\\index.pyx\u001b[0m in \u001b[0;36mpandas._libs.index.IndexEngine.get_loc\u001b[1;34m()\u001b[0m\n",
      "\u001b[1;32mpandas\\_libs\\index.pyx\u001b[0m in \u001b[0;36mpandas._libs.index.IndexEngine.get_loc\u001b[1;34m()\u001b[0m\n",
      "\u001b[1;32mpandas\\_libs\\hashtable_class_helper.pxi\u001b[0m in \u001b[0;36mpandas._libs.hashtable.PyObjectHashTable.get_item\u001b[1;34m()\u001b[0m\n",
      "\u001b[1;32mpandas\\_libs\\hashtable_class_helper.pxi\u001b[0m in \u001b[0;36mpandas._libs.hashtable.PyObjectHashTable.get_item\u001b[1;34m()\u001b[0m\n",
      "\u001b[1;31mKeyError\u001b[0m: 'Answer.equal.label'",
      "\nThe above exception was the direct cause of the following exception:\n",
      "\u001b[1;31mKeyError\u001b[0m                                  Traceback (most recent call last)",
      "\u001b[1;32m<ipython-input-3-865a0da899c7>\u001b[0m in \u001b[0;36m<module>\u001b[1;34m\u001b[0m\n\u001b[0;32m     13\u001b[0m \u001b[1;33m\u001b[0m\u001b[0m\n\u001b[0;32m     14\u001b[0m \u001b[1;31m# Combine answers columns to deal with bug in MTurk split columns:\u001b[0m\u001b[1;33m\u001b[0m\u001b[1;33m\u001b[0m\u001b[1;33m\u001b[0m\u001b[0m\n\u001b[1;32m---> 15\u001b[1;33m \u001b[0mall_results\u001b[0m\u001b[1;33m[\u001b[0m\u001b[1;34m\"Answer_label\"\u001b[0m\u001b[1;33m]\u001b[0m \u001b[1;33m=\u001b[0m \u001b[0mall_results\u001b[0m\u001b[1;33m[\u001b[0m\u001b[1;34m'Answer.equal.label'\u001b[0m\u001b[1;33m]\u001b[0m\u001b[1;33m.\u001b[0m\u001b[0mfillna\u001b[0m\u001b[1;33m(\u001b[0m\u001b[0mall_results\u001b[0m\u001b[1;33m[\u001b[0m\u001b[1;34m'Answer.equal'\u001b[0m\u001b[1;33m]\u001b[0m\u001b[1;33m)\u001b[0m\u001b[1;33m\u001b[0m\u001b[1;33m\u001b[0m\u001b[0m\n\u001b[0m\u001b[0;32m     16\u001b[0m \u001b[0mall_results\u001b[0m\u001b[1;33m[\u001b[0m\u001b[1;34m\"Answer_howMuch\"\u001b[0m\u001b[1;33m]\u001b[0m \u001b[1;33m=\u001b[0m \u001b[0mall_results\u001b[0m\u001b[1;33m[\u001b[0m\u001b[1;34m'Answer.howMuch'\u001b[0m\u001b[1;33m]\u001b[0m\u001b[1;33m.\u001b[0m\u001b[0mfillna\u001b[0m\u001b[1;33m(\u001b[0m\u001b[0mall_results\u001b[0m\u001b[1;33m[\u001b[0m\u001b[1;34m'Answer.howMuch.label'\u001b[0m\u001b[1;33m]\u001b[0m\u001b[1;33m)\u001b[0m\u001b[1;33m\u001b[0m\u001b[1;33m\u001b[0m\u001b[0m\n\u001b[0;32m     17\u001b[0m \u001b[1;33m\u001b[0m\u001b[0m\n",
      "\u001b[1;32m~\\anaconda3\\lib\\site-packages\\pandas\\core\\frame.py\u001b[0m in \u001b[0;36m__getitem__\u001b[1;34m(self, key)\u001b[0m\n\u001b[0;32m   3022\u001b[0m             \u001b[1;32mif\u001b[0m \u001b[0mself\u001b[0m\u001b[1;33m.\u001b[0m\u001b[0mcolumns\u001b[0m\u001b[1;33m.\u001b[0m\u001b[0mnlevels\u001b[0m \u001b[1;33m>\u001b[0m \u001b[1;36m1\u001b[0m\u001b[1;33m:\u001b[0m\u001b[1;33m\u001b[0m\u001b[1;33m\u001b[0m\u001b[0m\n\u001b[0;32m   3023\u001b[0m                 \u001b[1;32mreturn\u001b[0m \u001b[0mself\u001b[0m\u001b[1;33m.\u001b[0m\u001b[0m_getitem_multilevel\u001b[0m\u001b[1;33m(\u001b[0m\u001b[0mkey\u001b[0m\u001b[1;33m)\u001b[0m\u001b[1;33m\u001b[0m\u001b[1;33m\u001b[0m\u001b[0m\n\u001b[1;32m-> 3024\u001b[1;33m             \u001b[0mindexer\u001b[0m \u001b[1;33m=\u001b[0m \u001b[0mself\u001b[0m\u001b[1;33m.\u001b[0m\u001b[0mcolumns\u001b[0m\u001b[1;33m.\u001b[0m\u001b[0mget_loc\u001b[0m\u001b[1;33m(\u001b[0m\u001b[0mkey\u001b[0m\u001b[1;33m)\u001b[0m\u001b[1;33m\u001b[0m\u001b[1;33m\u001b[0m\u001b[0m\n\u001b[0m\u001b[0;32m   3025\u001b[0m             \u001b[1;32mif\u001b[0m \u001b[0mis_integer\u001b[0m\u001b[1;33m(\u001b[0m\u001b[0mindexer\u001b[0m\u001b[1;33m)\u001b[0m\u001b[1;33m:\u001b[0m\u001b[1;33m\u001b[0m\u001b[1;33m\u001b[0m\u001b[0m\n\u001b[0;32m   3026\u001b[0m                 \u001b[0mindexer\u001b[0m \u001b[1;33m=\u001b[0m \u001b[1;33m[\u001b[0m\u001b[0mindexer\u001b[0m\u001b[1;33m]\u001b[0m\u001b[1;33m\u001b[0m\u001b[1;33m\u001b[0m\u001b[0m\n",
      "\u001b[1;32m~\\anaconda3\\lib\\site-packages\\pandas\\core\\indexes\\base.py\u001b[0m in \u001b[0;36mget_loc\u001b[1;34m(self, key, method, tolerance)\u001b[0m\n\u001b[0;32m   3080\u001b[0m                 \u001b[1;32mreturn\u001b[0m \u001b[0mself\u001b[0m\u001b[1;33m.\u001b[0m\u001b[0m_engine\u001b[0m\u001b[1;33m.\u001b[0m\u001b[0mget_loc\u001b[0m\u001b[1;33m(\u001b[0m\u001b[0mcasted_key\u001b[0m\u001b[1;33m)\u001b[0m\u001b[1;33m\u001b[0m\u001b[1;33m\u001b[0m\u001b[0m\n\u001b[0;32m   3081\u001b[0m             \u001b[1;32mexcept\u001b[0m \u001b[0mKeyError\u001b[0m \u001b[1;32mas\u001b[0m \u001b[0merr\u001b[0m\u001b[1;33m:\u001b[0m\u001b[1;33m\u001b[0m\u001b[1;33m\u001b[0m\u001b[0m\n\u001b[1;32m-> 3082\u001b[1;33m                 \u001b[1;32mraise\u001b[0m \u001b[0mKeyError\u001b[0m\u001b[1;33m(\u001b[0m\u001b[0mkey\u001b[0m\u001b[1;33m)\u001b[0m \u001b[1;32mfrom\u001b[0m \u001b[0merr\u001b[0m\u001b[1;33m\u001b[0m\u001b[1;33m\u001b[0m\u001b[0m\n\u001b[0m\u001b[0;32m   3083\u001b[0m \u001b[1;33m\u001b[0m\u001b[0m\n\u001b[0;32m   3084\u001b[0m         \u001b[1;32mif\u001b[0m \u001b[0mtolerance\u001b[0m \u001b[1;32mis\u001b[0m \u001b[1;32mnot\u001b[0m \u001b[1;32mNone\u001b[0m\u001b[1;33m:\u001b[0m\u001b[1;33m\u001b[0m\u001b[1;33m\u001b[0m\u001b[0m\n",
      "\u001b[1;31mKeyError\u001b[0m: 'Answer.equal.label'"
     ]
    }
   ],
   "source": [
    "## Load the CSV files and save in 1 dataframe\n",
    "csv_files = [f for f in listdir(\"batch_results\") if isfile(join(\"batch_results\", f))]\n",
    "\n",
    "# all_results = pd.DataFrame(columns=[\"anchor_id\", \"anchor_label\", image_id\", \"melanoma\"])\n",
    "all_results = pd.DataFrame()\n",
    "\n",
    "for i in csv_files:\n",
    "    temp_df = pd.read_csv(\"batch_results/\"+i)\n",
    "    all_results = all_results.append(temp_df, ignore_index=True)\n",
    "    \n",
    "\n",
    "print(all_results.columns)\n",
    "\n",
    "# Combine answers columns to deal with bug in MTurk split columns:\n",
    "all_results[\"Answer_label\"] = all_results['Answer.equal.label'].fillna(all_results['Answer.equal'])\n",
    "all_results[\"Answer_howMuch\"] = all_results['Answer.howMuch'].fillna(all_results['Answer.howMuch.label'])\n",
    "\n",
    "## Drop all col we don't need\n",
    "df_prep0 = all_results.drop(columns=['HITId', 'HITTypeId', 'Title', 'Description', 'Keywords', 'Reward',\n",
    "       'CreationTime', 'MaxAssignments', 'RequesterAnnotation',\n",
    "       'AssignmentDurationInSeconds', 'AutoApprovalDelayInSeconds',\n",
    "       'Expiration', 'NumberOfSimilarHITs', 'LifetimeInSeconds',\n",
    "       'AssignmentId', 'WorkerId', 'AssignmentStatus', 'AcceptTime',\n",
    "       'SubmitTime', 'AutoApprovalTime', 'ApprovalTime', 'RejectionTime',\n",
    "       'RequesterFeedback', 'WorkTimeInSeconds', 'LifetimeApprovalRate',\n",
    "       'Last30DaysApprovalRate', 'Last7DaysApprovalRate', 'Input.id1',\n",
    "       'Input.id2', 'Input.image1_url', 'Input.image2_label',\n",
    "       'Input.image2_url', 'Input.image3_label', 'Answer.howMuch', 'Answer.howMuch.label',\n",
    "       'Input.image3_url','Answer.equal.label','Answer.equal','Approve', 'Reject'])\n",
    "\n",
    "\n",
    "# Rename columns\n",
    "df_prep0 = df_prep0.rename(columns={\"Input.image1_title\":\"anchor_id\", \"Input.image1_label\" : \"anchor_label\", \"Input.image2_title\":\"item2\", \"Input.image3_title\":\"item3\", \"Answer_label\":\"answer\", \"Answer_howMuch\":'howMuch' })\n",
    "print(df_prep0)\n",
    "\n",
    "## Create the ground truth file\n",
    "# Step 1: give image_id to picture that has been answered\n",
    "\n",
    "df_prep1 = df_prep0\n",
    "## Find image ID based on the answer is A or N\n",
    "df_prep1[[\"image_id\"]] = df_prep1[[\"item2\"]].where(df_prep1[[\"answer\"]].values==\"A\")\n",
    "## Because it is binary, we now all NaN is B (Image 3)\n",
    "df_prep1.image_id.fillna(df_prep1.item3,inplace=True)\n",
    "#print(df_prep1)\n",
    "\n",
    "#Drop all below a certain howMuch value:\n",
    "df_prep1b = df_prep1[df_prep1.howMuch != \"very uncertain\"]\n",
    "df_prep1b = df_prep1b[df_prep1b.howMuch != \"uncertain\"]\n",
    "\n",
    "#See number of each id's in the list.. we want an average of >3\n",
    "count_check = df_prep1b['image_id'].value_counts()\n",
    "df_prep1c = df_prep1b.join(count_check, on=\"image_id\", how = \"left\", rsuffix =\"_count\")\n",
    "\n",
    "# Drop all columns with a value lower than 3\n",
    "df_prep1d = df_prep1c[df_prep1c.image_id_count >= 3]\n",
    "print(df_prep1d)\n",
    "\n",
    "\n",
    "\n",
    "# Step 2: define the label equal to the anchor\n",
    "df_prep2 = pd.DataFrame()\n",
    "df_prep2[[\"image_id\", \"melanoma\"]] = df_prep1d[[\"image_id\", \"anchor_label\"]]\n",
    "df_prep2 = df_prep2.sort_values(\"image_id\")\n",
    "print(df_prep2)\n",
    "\n",
    "# Step 3: Take average of all answers \n",
    "df_prep3 = df_prep2\n",
    "df_prep3[[\"melanoma\"]] = df_prep3[\"melanoma\"].astype(float)\n",
    "df_prep3 = df_prep3.groupby(\"image_id\").mean()\n",
    "print(df_prep3)\n",
    "\n",
    "# Step 4: Round to nearest label {0,1}\n",
    "df = df_prep3\n",
    "df = df.round({'melanoma': 0})\n",
    "print(df)\n"
   ]
  },
  {
   "cell_type": "code",
   "execution_count": 38,
   "id": "032a9156-3569-4db0-9973-930c7a06c52c",
   "metadata": {},
   "outputs": [],
   "source": [
    "## Save ground truth file to csv\n",
    "df.to_csv(\"CROWDSIM-2021_GroundTruth.csv\")"
   ]
  },
  {
   "cell_type": "code",
   "execution_count": null,
   "id": "0553d85b-4d7c-41aa-b4a6-f32110ab8f26",
   "metadata": {},
   "outputs": [],
   "source": [
    "## Create analysis file\n",
    "df_analysis = df.join(all_results, on)\n",
    "\n",
    "\n",
    "df_analysis.to_csv(\"Analysis_batch_results\")"
   ]
  }
 ],
 "metadata": {
  "kernelspec": {
   "display_name": "Python 3",
   "language": "python",
   "name": "python3"
  },
  "language_info": {
   "codemirror_mode": {
    "name": "ipython",
    "version": 3
   },
   "file_extension": ".py",
   "mimetype": "text/x-python",
   "name": "python",
   "nbconvert_exporter": "python",
   "pygments_lexer": "ipython3",
   "version": "3.8.8"
  }
 },
 "nbformat": 4,
 "nbformat_minor": 5
}
