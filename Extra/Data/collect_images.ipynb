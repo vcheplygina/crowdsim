{
 "cells": [
  {
   "cell_type": "code",
   "execution_count": 1,
   "source": [
    "#Copy and collect the right pictures from the source:\r\n",
    "import pandas as pd\r\n",
    "import numpy as np\r\n",
    "\r\n",
    "missing_anchors = False\r\n",
    "missing_unlabeled = False"
   ],
   "outputs": [],
   "metadata": {}
  },
  {
   "cell_type": "code",
   "execution_count": 2,
   "source": [
    "# Paths to full-collection of pictures\r\n",
    "# (Jonathan's pc):\r\n",
    "path_2017 = r\"C:\\Users\\COBOD\\3D Objects\\ISIC-2017_Training_Data\"\r\n",
    "path_2020 = r\"C:\\Users\\COBOD\\3D Objects\\ISIC_2020_Training_Dicom.zip\""
   ],
   "outputs": [],
   "metadata": {}
  },
  {
   "cell_type": "code",
   "execution_count": 3,
   "source": [
    "# Path to destination of collections:\r\n",
    "#C:\\Users\\COBOD\\OneDrive\\CBS doku\\ITU\\3semester\\Project\\Data\r\n",
    "dest_2017 = \"anchor_images\"\r\n",
    "dest_2020 = \"unlabeled_images\""
   ],
   "outputs": [],
   "metadata": {}
  },
  {
   "cell_type": "code",
   "execution_count": 4,
   "source": [
    "# Create list of anchor images needed:\r\n",
    "df_anchor = pd.read_csv(\"ISIC-2017_anchor_images.csv\")\r\n",
    "images_2017 = df_anchor[\"image_id\"].values.tolist()\r\n",
    "#print(images_2017)"
   ],
   "outputs": [],
   "metadata": {}
  },
  {
   "cell_type": "code",
   "execution_count": 5,
   "source": [
    "# Create list of unlabeled images needed:\r\n",
    "df_unlabeled = pd.read_csv(\"ISIC_2020_unlabeled_images.csv\")\r\n",
    "images_2020 = df_unlabeled[\"image_id\"].values.tolist()\r\n",
    "#print(images_2020)"
   ],
   "outputs": [],
   "metadata": {}
  },
  {
   "cell_type": "code",
   "execution_count": 6,
   "source": [
    "import shutil, zipfile\r\n",
    "#archive = zipfile.ZipFile(path_2017c, 'r')\r\n",
    "#imgdata = archive.read('ISIC_0000143.jpg')\r\n",
    "\r\n",
    "# Example of how to define the file\r\n",
    "#file = path_2017 + \"\\\\\" + \"ISIC_0000143.jpg\"\r\n",
    "\r\n",
    "# Create anchor pictures:\r\n",
    "# From folder (not Zip)\r\n",
    "print(missing_anchors)\r\n",
    "if (missing_anchors):\r\n",
    "    print(\"Begin: copying and collecting anchor images ...\")\r\n",
    "    for i in images_2017:\r\n",
    "        file = path_2017 + \"\\\\\" + i + \".jpg\"\r\n",
    "        shutil.copy(file, dest_2017)\r\n",
    "    print(\"Done: copying and collecting anchor images\")\r\n"
   ],
   "outputs": [
    {
     "output_type": "stream",
     "name": "stdout",
     "text": [
      "False\n"
     ]
    }
   ],
   "metadata": {}
  },
  {
   "cell_type": "code",
   "execution_count": 10,
   "source": [
    "# Create unlabeled pictures:\r\n",
    "# From Zip-file\r\n",
    "\r\n",
    "print(missing_unlabeled)\r\n",
    "if(missing_unlabeled):\r\n",
    "    archive = zipfile.ZipFile(path_2020, 'r')\r\n",
    "    file = \"train/\" + images_2020[0] + \".dcm\"\r\n",
    "    #print(file)\r\n",
    "    #archive.extract(file, dest_2020)\r\n",
    "\r\n",
    "    print(\"Begin: copying and collecting anchor images ...\")\r\n",
    "    for i in images_2020:\r\n",
    "        file = \"train/\" + i + \".dcm\"\r\n",
    "        archive.extract(file, dest_2020)\r\n",
    "    print(\"Done: copying and collecting anchor images\")\r\n",
    "    "
   ],
   "outputs": [
    {
     "output_type": "stream",
     "name": "stdout",
     "text": [
      "False\n"
     ]
    }
   ],
   "metadata": {
    "tags": []
   }
  },
  {
   "cell_type": "code",
   "execution_count": null,
   "source": [],
   "outputs": [],
   "metadata": {}
  }
 ],
 "metadata": {
  "kernelspec": {
   "name": "python3",
   "display_name": "Python 3.8.8 64-bit ('base': conda)"
  },
  "language_info": {
   "codemirror_mode": {
    "name": "ipython",
    "version": 3
   },
   "file_extension": ".py",
   "mimetype": "text/x-python",
   "name": "python",
   "nbconvert_exporter": "python",
   "pygments_lexer": "ipython3",
   "version": "3.8.8"
  },
  "interpreter": {
   "hash": "ff0f2c4642be398ce074b047a4fc0dd90074f0796b13c26fa7578c7fcb7d160f"
  }
 },
 "nbformat": 4,
 "nbformat_minor": 5
}