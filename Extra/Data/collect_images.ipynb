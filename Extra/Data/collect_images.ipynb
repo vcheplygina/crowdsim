{
 "cells": [
  {
   "cell_type": "code",
   "execution_count": 29,
   "id": "59064dac-b747-4188-9ae5-1f230b87c658",
   "metadata": {},
   "outputs": [],
   "source": [
    "#Copy and collect the right pictures from the source:\n",
    "import pandas as pd\n",
    "import numpy as np\n",
    "\n",
    "missing_anchors = False\n",
    "missing_unlabeled = False"
   ]
  },
  {
   "cell_type": "code",
   "execution_count": 2,
   "id": "f9738111-9744-4203-a1c1-fc28c4c8a6bd",
   "metadata": {},
   "outputs": [],
   "source": [
    "# Paths to full-collection of pictures\n",
    "# (Jonathan's pc):\n",
    "path_2017 = r\"C:\\Users\\COBOD\\3D Objects\\ISIC-2017_Training_Data\"\n",
    "path_2020 = r\"C:\\Users\\COBOD\\3D Objects\\ISIC_2020_Training_Dicom.zip\""
   ]
  },
  {
   "cell_type": "code",
   "execution_count": 3,
   "id": "d04e3cf8-5279-410c-b1e2-5378be13592c",
   "metadata": {},
   "outputs": [],
   "source": [
    "# Path to destination of collections:\n",
    "#C:\\Users\\COBOD\\OneDrive\\CBS doku\\ITU\\3semester\\Project\\Data\n",
    "dest_2017 = \"anchor_images\"\n",
    "dest_2020 = \"unlabeled_images\""
   ]
  },
  {
   "cell_type": "code",
   "execution_count": 8,
   "id": "dc4341c9-0ff7-4c87-8a62-be2360331b00",
   "metadata": {},
   "outputs": [],
   "source": [
    "# Create list of anchor images needed:\n",
    "df_anchor = pd.read_csv(\"ISIC-2017_anchor_images.csv\")\n",
    "images_2017 = df_anchor[\"image_id\"].values.tolist()\n",
    "#print(images_2017)"
   ]
  },
  {
   "cell_type": "code",
   "execution_count": 7,
   "id": "96ab8ce8-8683-439e-8b1b-4ec9cdc4c9cf",
   "metadata": {},
   "outputs": [],
   "source": [
    "# Create list of unlabeled images needed:\n",
    "df_unlabeled = pd.read_csv(\"ISIC_2020_unlabeled_images.csv\")\n",
    "images_2020 = df_unlabeled[\"image_id\"].values.tolist()\n",
    "#print(images_2020)"
   ]
  },
  {
   "cell_type": "code",
   "execution_count": 13,
   "id": "09187c64-586d-4d31-9996-bd9b4cecdcb4",
   "metadata": {},
   "outputs": [
    {
     "name": "stdout",
     "output_type": "stream",
     "text": [
      "False\n"
     ]
    }
   ],
   "source": [
    "import shutil, zipfile\n",
    "#archive = zipfile.ZipFile(path_2017c, 'r')\n",
    "#imgdata = archive.read('ISIC_0000143.jpg')\n",
    "\n",
    "# Example of how to define the file\n",
    "#file = path_2017 + \"\\\\\" + \"ISIC_0000143.jpg\"\n",
    "\n",
    "# Create anchor pictures:\n",
    "# From folder (not Zip)\n",
    "print(missing_anchors)\n",
    "if (missing_anchors):\n",
    "    print(\"Begin: copying and collecting anchor images ...\")\n",
    "    for i in images_2017:\n",
    "        file = path_2017 + \"\\\\\" + i + \".jpg\"\n",
    "        shutil.copy(file, dest_2017)\n",
    "    print(\"Done: copying and collecting anchor images\")\n"
   ]
  },
  {
   "cell_type": "code",
   "execution_count": 30,
   "id": "c75b15b0-95f0-4a17-a729-cb7218f4f269",
   "metadata": {
    "tags": []
   },
   "outputs": [
    {
     "name": "stdout",
     "output_type": "stream",
     "text": [
      "False\n"
     ]
    }
   ],
   "source": [
    "# Create unlabeled pictures:\n",
    "# From Zip-file\n",
    "archive = zipfile.ZipFile(path_2020, 'r')\n",
    "\n",
    "file = \"train/\" + images_2020[0] + \".dcm\"\n",
    "#print(file)\n",
    "archive.extract(file, dest_2020)\n",
    "print(missing_unlabeled)\n",
    "if(missing_unlabeled):\n",
    "    print(\"Begin: copying and collecting anchor images ...\")\n",
    "    for i in images_2020:\n",
    "        file = \"train/\" + i + \".dcm\"\n",
    "        archive.extract(file, dest_2020)\n",
    "    print(\"Done: copying and collecting anchor images\")\n",
    "    "
   ]
  },
  {
   "cell_type": "code",
   "execution_count": null,
   "id": "97e9cd66-d77e-44f0-916f-d53d21879595",
   "metadata": {},
   "outputs": [],
   "source": []
  }
 ],
 "metadata": {
  "kernelspec": {
   "display_name": "Python 3",
   "language": "python",
   "name": "python3"
  },
  "language_info": {
   "codemirror_mode": {
    "name": "ipython",
    "version": 3
   },
   "file_extension": ".py",
   "mimetype": "text/x-python",
   "name": "python",
   "nbconvert_exporter": "python",
   "pygments_lexer": "ipython3",
   "version": "3.8.8"
  }
 },
 "nbformat": 4,
 "nbformat_minor": 5
}
