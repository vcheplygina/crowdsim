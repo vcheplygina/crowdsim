{
 "cells": [
  {
   "cell_type": "code",
   "execution_count": 2,
   "id": "40a51d8f-38fc-45a5-aec7-0d9d55d7772e",
   "metadata": {},
   "outputs": [],
   "source": [
    "## Imports\n",
    "import pandas as pd\n",
    "import numpy as np\n",
    "import random"
   ]
  },
  {
   "cell_type": "code",
   "execution_count": 3,
   "id": "5293c6cc-3111-4ea1-8178-caf026c7ce18",
   "metadata": {},
   "outputs": [
    {
     "name": "stdout",
     "output_type": "stream",
     "text": [
      "   Unnamed: 0      image_id  cancer\n",
      "0         130  ISIC_0000143     1.0\n",
      "1        1240  ISIC_0012715     1.0\n",
      "2        1690  ISIC_0014076     1.0\n",
      "3         245  ISIC_0000290     1.0\n",
      "4         936  ISIC_0011099     1.0\n",
      "   Unnamed: 0      image_id  cancer\n",
      "0       21408  ISIC_6496370       1\n",
      "1        1335  ISIC_0504165       1\n",
      "2       12795  ISIC_3941123       1\n",
      "3       20547  ISIC_6251753       1\n",
      "4        9151  ISIC_2837581       1\n"
     ]
    }
   ],
   "source": [
    "## load 200 anchors images\n",
    "df_anchor = pd.read_csv(\"ISIC-2017_anchor_images.csv\")\n",
    "print(df_anchor.head())\n",
    "\n",
    "## load 200 \"unlabeled\" images\n",
    "df_unlabeled = pd.read_csv(\"ISIC_2020_unlabeled_images.csv\")\n",
    "print(df_unlabeled.head())"
   ]
  },
  {
   "cell_type": "code",
   "execution_count": 5,
   "id": "fc5930ef-0c7d-4489-b763-76b698aaf773",
   "metadata": {},
   "outputs": [
    {
     "name": "stdout",
     "output_type": "stream",
     "text": [
      "   image1_title  image1_label  \\\n",
      "0  ISIC_0014249           1.0   \n",
      "1  ISIC_0010267           1.0   \n",
      "2  ISIC_0015233           0.0   \n",
      "3  ISIC_0012250           0.0   \n",
      "4  ISIC_0010360           1.0   \n",
      "5  ISIC_0013497           1.0   \n",
      "6  ISIC_0010000           1.0   \n",
      "7  ISIC_0014189           1.0   \n",
      "8  ISIC_0013772           0.0   \n",
      "9  ISIC_0000511           1.0   \n",
      "\n",
      "                                          image1_url  image2_title  \\\n",
      "0  https://github.com/vcheplygina/crowdsim/blob/m...  ISIC_0504165   \n",
      "1  https://github.com/vcheplygina/crowdsim/blob/m...  ISIC_6613150   \n",
      "2  https://github.com/vcheplygina/crowdsim/blob/m...  ISIC_7332135   \n",
      "3  https://github.com/vcheplygina/crowdsim/blob/m...  ISIC_6243521   \n",
      "4  https://github.com/vcheplygina/crowdsim/blob/m...  ISIC_1698942   \n",
      "5  https://github.com/vcheplygina/crowdsim/blob/m...  ISIC_6289835   \n",
      "6  https://github.com/vcheplygina/crowdsim/blob/m...  ISIC_3023646   \n",
      "7  https://github.com/vcheplygina/crowdsim/blob/m...  ISIC_7612992   \n",
      "8  https://github.com/vcheplygina/crowdsim/blob/m...  ISIC_3738751   \n",
      "9  https://github.com/vcheplygina/crowdsim/blob/m...  ISIC_2697083   \n",
      "\n",
      "   image2_label                                         image2_url  \\\n",
      "0             1  https://github.com/vcheplygina/crowdsim/blob/m...   \n",
      "1             1  https://github.com/vcheplygina/crowdsim/blob/m...   \n",
      "2             0  https://github.com/vcheplygina/crowdsim/blob/m...   \n",
      "3             0  https://github.com/vcheplygina/crowdsim/blob/m...   \n",
      "4             1  https://github.com/vcheplygina/crowdsim/blob/m...   \n",
      "5             0  https://github.com/vcheplygina/crowdsim/blob/m...   \n",
      "6             1  https://github.com/vcheplygina/crowdsim/blob/m...   \n",
      "7             1  https://github.com/vcheplygina/crowdsim/blob/m...   \n",
      "8             1  https://github.com/vcheplygina/crowdsim/blob/m...   \n",
      "9             1  https://github.com/vcheplygina/crowdsim/blob/m...   \n",
      "\n",
      "   image3_title  image3_label  \\\n",
      "0  ISIC_8951909             1   \n",
      "1  ISIC_2386668             0   \n",
      "2  ISIC_3444680             0   \n",
      "3  ISIC_1104762             0   \n",
      "4  ISIC_3590167             1   \n",
      "5  ISIC_0861066             0   \n",
      "6  ISIC_9493030             0   \n",
      "7  ISIC_2560463             0   \n",
      "8  ISIC_4794020             0   \n",
      "9  ISIC_9612481             1   \n",
      "\n",
      "                                          image3_url  \n",
      "0  https://github.com/vcheplygina/crowdsim/blob/m...  \n",
      "1  https://github.com/vcheplygina/crowdsim/blob/m...  \n",
      "2  https://github.com/vcheplygina/crowdsim/blob/m...  \n",
      "3  https://github.com/vcheplygina/crowdsim/blob/m...  \n",
      "4  https://github.com/vcheplygina/crowdsim/blob/m...  \n",
      "5  https://github.com/vcheplygina/crowdsim/blob/m...  \n",
      "6  https://github.com/vcheplygina/crowdsim/blob/m...  \n",
      "7  https://github.com/vcheplygina/crowdsim/blob/m...  \n",
      "8  https://github.com/vcheplygina/crowdsim/blob/m...  \n",
      "9  https://github.com/vcheplygina/crowdsim/blob/m...  \n"
     ]
    }
   ],
   "source": [
    "## Create skeleton for the batch-file\n",
    "df_batch = pd.DataFrame()\n",
    "df_temp_anchor = pd.DataFrame()\n",
    "df_temp_unlabeled_big = pd.DataFrame()\n",
    "df_temp_unlabeled_A = pd.DataFrame()\n",
    "df_temp_unlabeled_B = pd.DataFrame()\n",
    "\n",
    "## Create triplets randomly in the range X (now 10)\n",
    "#\n",
    "## First we sample X-amount of random pictures, and save their ID and their labels\n",
    "## While also adding the url:\n",
    "# \n",
    "X = 10\n",
    "#Find X random anchor pictures\n",
    "df_temp_anchor[[\"image1_title\", \"image1_label\"]] = df_anchor[[\"image_id\", \"cancer\"]].sample(n=X)\n",
    "df_temp_anchor[[\"image1_url\"]] = \"https://github.com/vcheplygina/crowdsim/blob/main/Extra/Data/batch/\" + df_temp_anchor[[\"image1_title\"]].values + \".jpg?raw=true\"\n",
    "\n",
    "#Find X*2 random and different pictures\n",
    "df_temp_unlabeled_big = df_unlabeled[[\"image_id\", \"cancer\"]].sample(n=X*2)\n",
    "\n",
    "# Split into 2 groups of X\n",
    "df_temp_unlabeled_A[[\"image2_title\", \"image2_label\"]] = df_temp_unlabeled_big[0:X]\n",
    "df_temp_unlabeled_A[[\"image2_url\"]] = \"https://github.com/vcheplygina/crowdsim/blob/main/Extra/Data/batch/\" + df_temp_unlabeled_A[[\"image2_title\"]].values + \".jpg?raw=true\"\n",
    "\n",
    "df_temp_unlabeled_B[[\"image3_title\", \"image3_label\"]] = df_temp_unlabeled_big[X:X*2]\n",
    "df_temp_unlabeled_B[[\"image3_url\"]] = \"https://github.com/vcheplygina/crowdsim/blob/main/Extra/Data/batch/\" + df_temp_unlabeled_B[[\"image3_title\"]].values + \".jpg?raw=true\"\n",
    "\n",
    "#\n",
    "## Then we reset their indices, and join them \"horisontally\"\n",
    "#\n",
    "\n",
    "df_temp_anchor = df_temp_anchor.reset_index(drop=True)\n",
    "df_temp_unlabeled_A = df_temp_unlabeled_A.reset_index(drop=True)\n",
    "df_temp_unlabeled_B = df_temp_unlabeled_B.reset_index(drop=True)\n",
    "\n",
    "#\n",
    "## Joining here into 1 dataframe\n",
    "#\n",
    "df_batch = df_temp_anchor.join(df_temp_unlabeled_A).join(df_temp_unlabeled_B)\n",
    "print(df_batch)"
   ]
  },
  {
   "cell_type": "code",
   "execution_count": 131,
   "id": "fa08cc86-766e-4825-a153-c000616a0413",
   "metadata": {},
   "outputs": [],
   "source": [
    "## Create the csv file:\n",
    "df_batch.to_csv(\"batch_for_crowdsim.csv\")"
   ]
  },
  {
   "cell_type": "code",
   "execution_count": null,
   "id": "743f88e7-e823-43fc-902a-cae01e5379fa",
   "metadata": {},
   "outputs": [],
   "source": []
  }
 ],
 "metadata": {
  "kernelspec": {
   "display_name": "Python 3",
   "language": "python",
   "name": "python3"
  },
  "language_info": {
   "codemirror_mode": {
    "name": "ipython",
    "version": 3
   },
   "file_extension": ".py",
   "mimetype": "text/x-python",
   "name": "python",
   "nbconvert_exporter": "python",
   "pygments_lexer": "ipython3",
   "version": "3.8.8"
  }
 },
 "nbformat": 4,
 "nbformat_minor": 5
}
