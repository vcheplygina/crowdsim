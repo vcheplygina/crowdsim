{
 "cells": [
  {
   "cell_type": "code",
   "execution_count": 83,
   "id": "40a51d8f-38fc-45a5-aec7-0d9d55d7772e",
   "metadata": {},
   "outputs": [],
   "source": [
    "## Imports\n",
    "import pandas as pd\n",
    "import numpy as np\n",
    "import random"
   ]
  },
  {
   "cell_type": "code",
   "execution_count": null,
   "id": "5293c6cc-3111-4ea1-8178-caf026c7ce18",
   "metadata": {},
   "outputs": [],
   "source": []
  },
  {
   "cell_type": "code",
   "execution_count": 84,
   "id": "fc5930ef-0c7d-4489-b763-76b698aaf773",
   "metadata": {},
   "outputs": [],
   "source": [
    "def create_batch():\n",
    "    ## load 200 anchors images\n",
    "    df_anchor = pd.read_csv(\"ISIC-2017_anchor_images.csv\")\n",
    "    #print(df_anchor.head())\n",
    "\n",
    "    ## load 1000 (2* X, where X = 500) \"unlabeled\" images\n",
    "    df_unlabeled = pd.read_csv(\"ISIC_2020_unlabeled_images.csv\")\n",
    "    #print(df_unlabeled.head())\n",
    "    \n",
    "    ## Create skeleton for the batch-file\n",
    "    df_batch = pd.DataFrame()\n",
    "    df_temp_anchor = pd.DataFrame()\n",
    "    df_temp_unlabeled_big = pd.DataFrame()\n",
    "    df_temp_unlabeled_A = pd.DataFrame()\n",
    "    df_temp_unlabeled_B = pd.DataFrame()\n",
    "\n",
    "    ## Create triplets randomly in the range X (now 10)\n",
    "    #\n",
    "    ## First we sample X-amount of random pictures, and save their ID and their labels\n",
    "    ## While also adding the url:\n",
    "    # \n",
    "\n",
    "    X = 500\n",
    "    #Find X random anchor pictures\n",
    "    #Now Anchor list is 200 and we want it to be 1000\n",
    "    df_anchor = pd.concat([df_anchor]*5)\n",
    "    df_temp_anchor[[\"image1_title\", \"image1_label\"]] = df_anchor[[\"image_id\", \"cancer\"]].sample(frac=1)\n",
    "    print(\"temp_anchor shuffled!\")\n",
    "    df_temp_anchor[[\"image1_url\"]] = \"https://github.com/vcheplygina/crowdsim/blob/main/Extra/Data/batch/\" + df_temp_anchor[[\"image1_title\"]].values + \"_resized.jpg?raw=true\"\n",
    "\n",
    "    #Find X random and different pictures (now we can hope each unlabeled picture is listed 4 times)\n",
    "    #Now unlabeled has 500 pictures, we want it to be 2000\n",
    "    df_unlabeled = pd.concat([df_unlabeled]*4)\n",
    "    df_temp_unlabeled_big = df_unlabeled[[\"image_id\", \"cancer\"]].sample(frac=1)\n",
    "    print(\"temp_unlabeled shuffled!\")\n",
    "\n",
    "    # Split into 2 groups of X\n",
    "    df_temp_unlabeled_A[[\"image2_title\", \"image2_label\"]] = df_temp_unlabeled_big[0:X*2]\n",
    "    df_temp_unlabeled_A[[\"image2_url\"]] = \"https://github.com/vcheplygina/crowdsim/blob/main/Extra/Data/batch/\" + df_temp_unlabeled_A[[\"image2_title\"]].values + \"_resized.jpg?raw=true\"\n",
    "\n",
    "    df_temp_unlabeled_B[[\"image3_title\", \"image3_label\"]] = df_temp_unlabeled_big[X*2:X*4]\n",
    "    df_temp_unlabeled_B[[\"image3_url\"]] = \"https://github.com/vcheplygina/crowdsim/blob/main/Extra/Data/batch/\" + df_temp_unlabeled_B[[\"image3_title\"]].values + \"_resized.jpg?raw=true\"\n",
    "\n",
    "    #\n",
    "    ## Then we reset their indices, and join them \"horisontally\"\n",
    "    #\n",
    "\n",
    "    df_temp_anchor = df_temp_anchor.reset_index(drop=True)\n",
    "    df_temp_unlabeled_A = df_temp_unlabeled_A.reset_index(drop=True)\n",
    "    df_temp_unlabeled_B = df_temp_unlabeled_B.reset_index(drop=True)\n",
    "\n",
    "    #\n",
    "    ## Joining here into 1 dataframe\n",
    "    #\n",
    "    df_batch = df_temp_anchor.join(df_temp_unlabeled_A).join(df_temp_unlabeled_B)\n",
    "    print(df_batch.tail())"
   ]
  },
  {
   "cell_type": "code",
   "execution_count": 88,
   "id": "18fd4791-ba9b-4fc4-84fb-3a078e7a0505",
   "metadata": {},
   "outputs": [
    {
     "name": "stdout",
     "output_type": "stream",
     "text": [
      "temp_anchor shuffled!\n",
      "temp_unlabeled shuffled!\n",
      "     image1_title  image1_label  \\\n",
      "995  ISIC_0004168           0.0   \n",
      "996  ISIC_0013500           1.0   \n",
      "997  ISIC_0000003           0.0   \n",
      "998  ISIC_0013832           1.0   \n",
      "999  ISIC_0009882           1.0   \n",
      "\n",
      "                                            image1_url  image2_title  \\\n",
      "995  https://github.com/vcheplygina/crowdsim/blob/m...  ISIC_8229307   \n",
      "996  https://github.com/vcheplygina/crowdsim/blob/m...  ISIC_2273490   \n",
      "997  https://github.com/vcheplygina/crowdsim/blob/m...  ISIC_6687278   \n",
      "998  https://github.com/vcheplygina/crowdsim/blob/m...  ISIC_7991932   \n",
      "999  https://github.com/vcheplygina/crowdsim/blob/m...  ISIC_7236143   \n",
      "\n",
      "     image2_label                                         image2_url  \\\n",
      "995             0  https://github.com/vcheplygina/crowdsim/blob/m...   \n",
      "996             0  https://github.com/vcheplygina/crowdsim/blob/m...   \n",
      "997             0  https://github.com/vcheplygina/crowdsim/blob/m...   \n",
      "998             0  https://github.com/vcheplygina/crowdsim/blob/m...   \n",
      "999             0  https://github.com/vcheplygina/crowdsim/blob/m...   \n",
      "\n",
      "     image3_title  image3_label  \\\n",
      "995  ISIC_7392410             0   \n",
      "996  ISIC_8303710             0   \n",
      "997  ISIC_7378122             0   \n",
      "998  ISIC_4809078             0   \n",
      "999  ISIC_8249766             0   \n",
      "\n",
      "                                            image3_url  \n",
      "995  https://github.com/vcheplygina/crowdsim/blob/m...  \n",
      "996  https://github.com/vcheplygina/crowdsim/blob/m...  \n",
      "997  https://github.com/vcheplygina/crowdsim/blob/m...  \n",
      "998  https://github.com/vcheplygina/crowdsim/blob/m...  \n",
      "999  https://github.com/vcheplygina/crowdsim/blob/m...  \n",
      "batch created succesfully!\n"
     ]
    }
   ],
   "source": [
    "# If two \"A\" and \"B\" are the same redo:\n",
    "batch_succesful = False\n",
    "while not batch_succesful:\n",
    "    batch_succesful = True\n",
    "    create_batch()\n",
    "    for i in range(100):\n",
    "        if df_batch.iloc[i]['image2_title'] == df_batch.iloc[i][\"image3_title\"]:\n",
    "            batch_succesful = False\n",
    "            print (\"this is bad! Trying again... count:\", count)\n",
    "            \n",
    "print(\"batch created succesfully!\")"
   ]
  },
  {
   "cell_type": "code",
   "execution_count": null,
   "id": "b0eac519-5f56-42f8-81b8-c7be8d55fca6",
   "metadata": {},
   "outputs": [],
   "source": []
  },
  {
   "cell_type": "code",
   "execution_count": 89,
   "id": "fa08cc86-766e-4825-a153-c000616a0413",
   "metadata": {},
   "outputs": [],
   "source": [
    "## Create the csv file:\n",
    "df_batch.to_csv(\"batch_for_crowdsim.csv\")"
   ]
  },
  {
   "cell_type": "code",
   "execution_count": null,
   "id": "743f88e7-e823-43fc-902a-cae01e5379fa",
   "metadata": {},
   "outputs": [],
   "source": []
  },
  {
   "cell_type": "code",
   "execution_count": null,
   "id": "d8107441-2ee9-440d-b97a-90474a97092e",
   "metadata": {},
   "outputs": [],
   "source": []
  }
 ],
 "metadata": {
  "kernelspec": {
   "display_name": "Python 3",
   "language": "python",
   "name": "python3"
  },
  "language_info": {
   "codemirror_mode": {
    "name": "ipython",
    "version": 3
   },
   "file_extension": ".py",
   "mimetype": "text/x-python",
   "name": "python",
   "nbconvert_exporter": "python",
   "pygments_lexer": "ipython3",
   "version": "3.8.8"
  }
 },
 "nbformat": 4,
 "nbformat_minor": 5
}
